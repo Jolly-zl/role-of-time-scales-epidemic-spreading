{
 "cells": [
  {
   "cell_type": "code",
   "execution_count": 1,
   "id": "actual-synthesis",
   "metadata": {},
   "outputs": [],
   "source": [
    "import pandas as pd\n",
    "import matplotlib.pyplot as plt\n",
    "import numpy as np\n",
    "\n",
    "plt.style.use(\"../config/custom_plots.mplstyle\")"
   ]
  },
  {
   "cell_type": "markdown",
   "id": "imported-basement",
   "metadata": {},
   "source": [
    "Data from:\n",
    "\n",
    "- https://prezydent20200628.pkw.gov.pl/prezydent20200628/pl/dane_w_arkuszach (second round of presidential election)\n",
    "- https://www.gov.pl/web/szczepimysie/mapa-punktow-szczepien#/ (number of vaccinated)\n",
    "- https://stat.gov.pl/obszary-tematyczne/ludnosc/ludnosc/ludnosc-stan-i-struktura-ludnosci-oraz-ruch-naturalny-w-przekroju-terytorialnym-stan-w-dniu-31-12-2020,6,29.html (population of powiat)"
   ]
  },
  {
   "cell_type": "code",
   "execution_count": 2,
   "id": "characteristic-traffic",
   "metadata": {},
   "outputs": [
    {
     "data": {
      "text/html": [
       "<div>\n",
       "<style scoped>\n",
       "    .dataframe tbody tr th:only-of-type {\n",
       "        vertical-align: middle;\n",
       "    }\n",
       "\n",
       "    .dataframe tbody tr th {\n",
       "        vertical-align: top;\n",
       "    }\n",
       "\n",
       "    .dataframe thead th {\n",
       "        text-align: right;\n",
       "    }\n",
       "</style>\n",
       "<table border=\"1\" class=\"dataframe\">\n",
       "  <thead>\n",
       "    <tr style=\"text-align: right;\">\n",
       "      <th></th>\n",
       "      <th>Nr OKW</th>\n",
       "      <th>Kod TERYT</th>\n",
       "      <th>Powiat</th>\n",
       "      <th>Województwo</th>\n",
       "      <th>Komisje obwodowe otrzymały kart do głosowania</th>\n",
       "      <th>Liczba wyborców uprawnionych do głosowania</th>\n",
       "      <th>Nie wykorzystano kart do głosowania</th>\n",
       "      <th>Liczba wyborców, którym wydano karty do głosowania</th>\n",
       "      <th>Liczba wyborców głosujących przez pełnomocnika</th>\n",
       "      <th>Liczba wyborców głosujących na podstawie zaświadczenia o prawie do głosowania</th>\n",
       "      <th>...</th>\n",
       "      <th>Liczba kart nieważnych</th>\n",
       "      <th>Liczba kart ważnych</th>\n",
       "      <th>Liczba głosów nieważnych</th>\n",
       "      <th>W tym z powodu postawienia znaku „X” obok nazwiska dwóch lub większej liczby kandydatów</th>\n",
       "      <th>W tym z powodu niepostawienia znaku „X” obok nazwiska żadnego kandydata</th>\n",
       "      <th>W tym z powodu postawienia znaku „X” wyłącznie obok skreślonego nazwiska kandydata</th>\n",
       "      <th>Liczba głosów ważnych oddanych łącznie na wszystkich kandydatów</th>\n",
       "      <th>Andrzej Sebastian DUDA</th>\n",
       "      <th>Rafał Kazimierz TRZASKOWSKI</th>\n",
       "      <th>Liczba obwodów</th>\n",
       "    </tr>\n",
       "  </thead>\n",
       "  <tbody>\n",
       "    <tr>\n",
       "      <th>0</th>\n",
       "      <td>2</td>\n",
       "      <td>20100</td>\n",
       "      <td>bolesławiecki</td>\n",
       "      <td>dolnośląskie</td>\n",
       "      <td>63867</td>\n",
       "      <td>67800</td>\n",
       "      <td>21631</td>\n",
       "      <td>42238</td>\n",
       "      <td>13</td>\n",
       "      <td>633</td>\n",
       "      <td>...</td>\n",
       "      <td>1</td>\n",
       "      <td>42569</td>\n",
       "      <td>322</td>\n",
       "      <td>179</td>\n",
       "      <td>143</td>\n",
       "      <td>NaN</td>\n",
       "      <td>42247</td>\n",
       "      <td>20966</td>\n",
       "      <td>21281</td>\n",
       "      <td>63</td>\n",
       "    </tr>\n",
       "    <tr>\n",
       "      <th>1</th>\n",
       "      <td>4</td>\n",
       "      <td>20200</td>\n",
       "      <td>dzierżoniowski</td>\n",
       "      <td>dolnośląskie</td>\n",
       "      <td>73104</td>\n",
       "      <td>77836</td>\n",
       "      <td>24749</td>\n",
       "      <td>48353</td>\n",
       "      <td>54</td>\n",
       "      <td>878</td>\n",
       "      <td>...</td>\n",
       "      <td>4</td>\n",
       "      <td>48755</td>\n",
       "      <td>413</td>\n",
       "      <td>235</td>\n",
       "      <td>178</td>\n",
       "      <td>NaN</td>\n",
       "      <td>48342</td>\n",
       "      <td>24383</td>\n",
       "      <td>23959</td>\n",
       "      <td>83</td>\n",
       "    </tr>\n",
       "  </tbody>\n",
       "</table>\n",
       "<p>2 rows × 29 columns</p>\n",
       "</div>"
      ],
      "text/plain": [
       "   Nr OKW  Kod TERYT          Powiat   Województwo  \\\n",
       "0       2      20100   bolesławiecki  dolnośląskie   \n",
       "1       4      20200  dzierżoniowski  dolnośląskie   \n",
       "\n",
       "   Komisje obwodowe otrzymały kart do głosowania  \\\n",
       "0                                          63867   \n",
       "1                                          73104   \n",
       "\n",
       "   Liczba wyborców uprawnionych do głosowania  \\\n",
       "0                                       67800   \n",
       "1                                       77836   \n",
       "\n",
       "   Nie wykorzystano kart do głosowania  \\\n",
       "0                                21631   \n",
       "1                                24749   \n",
       "\n",
       "   Liczba wyborców, którym wydano karty do głosowania  \\\n",
       "0                                              42238    \n",
       "1                                              48353    \n",
       "\n",
       "   Liczba wyborców głosujących przez pełnomocnika  \\\n",
       "0                                              13   \n",
       "1                                              54   \n",
       "\n",
       "   Liczba wyborców głosujących na podstawie zaświadczenia o prawie do głosowania  \\\n",
       "0                                                633                               \n",
       "1                                                878                               \n",
       "\n",
       "   ...  Liczba kart nieważnych  Liczba kart ważnych  Liczba głosów nieważnych  \\\n",
       "0  ...                       1                42569                       322   \n",
       "1  ...                       4                48755                       413   \n",
       "\n",
       "   W tym z powodu postawienia znaku „X” obok nazwiska dwóch lub większej liczby kandydatów  \\\n",
       "0                                                179                                         \n",
       "1                                                235                                         \n",
       "\n",
       "   W tym z powodu niepostawienia znaku „X” obok nazwiska żadnego kandydata  \\\n",
       "0                                                143                         \n",
       "1                                                178                         \n",
       "\n",
       "   W tym z powodu postawienia znaku „X” wyłącznie obok skreślonego nazwiska kandydata  \\\n",
       "0                                                NaN                                    \n",
       "1                                                NaN                                    \n",
       "\n",
       "   Liczba głosów ważnych oddanych łącznie na wszystkich kandydatów  \\\n",
       "0                                              42247                 \n",
       "1                                              48342                 \n",
       "\n",
       "   Andrzej Sebastian DUDA  Rafał Kazimierz TRZASKOWSKI  Liczba obwodów  \n",
       "0                   20966                        21281              63  \n",
       "1                   24383                        23959              83  \n",
       "\n",
       "[2 rows x 29 columns]"
      ]
     },
     "execution_count": 2,
     "metadata": {},
     "output_type": "execute_result"
    }
   ],
   "source": [
    "election_pow = pd.read_csv(\"../data/elections/wyniki_gl_na_kand_po_powiatach_utf8.csv\", sep=\";\")\n",
    "election_pow.head(2)"
   ]
  },
  {
   "cell_type": "code",
   "execution_count": 3,
   "id": "tested-washington",
   "metadata": {},
   "outputs": [
    {
     "data": {
      "text/html": [
       "<div>\n",
       "<style scoped>\n",
       "    .dataframe tbody tr th:only-of-type {\n",
       "        vertical-align: middle;\n",
       "    }\n",
       "\n",
       "    .dataframe tbody tr th {\n",
       "        vertical-align: top;\n",
       "    }\n",
       "\n",
       "    .dataframe thead th {\n",
       "        text-align: right;\n",
       "    }\n",
       "</style>\n",
       "<table border=\"1\" class=\"dataframe\">\n",
       "  <thead>\n",
       "    <tr style=\"text-align: right;\">\n",
       "      <th></th>\n",
       "      <th>Kod TERYT</th>\n",
       "      <th>Województwo</th>\n",
       "      <th>Komisje obwodowe otrzymały kart do głosowania</th>\n",
       "      <th>Liczba wyborców uprawnionych do głosowania</th>\n",
       "      <th>Nie wykorzystano kart do głosowania</th>\n",
       "      <th>Liczba wyborców, którym wydano karty do głosowania</th>\n",
       "      <th>Liczba wyborców głosujących przez pełnomocnika</th>\n",
       "      <th>Liczba wyborców głosujących na podstawie zaświadczenia o prawie do głosowania</th>\n",
       "      <th>Liczba wyborców, którym wysłano pakiety wyborcze</th>\n",
       "      <th>Liczba otrzymanych kopert zwrotnych</th>\n",
       "      <th>...</th>\n",
       "      <th>Liczba kart nieważnych</th>\n",
       "      <th>Liczba kart ważnych</th>\n",
       "      <th>Liczba głosów nieważnych</th>\n",
       "      <th>W tym z powodu postawienia znaku „X” obok nazwiska dwóch lub większej liczby kandydatów</th>\n",
       "      <th>W tym z powodu niepostawienia znaku „X” obok nazwiska żadnego kandydata</th>\n",
       "      <th>W tym z powodu postawienia znaku „X” wyłącznie obok skreślonego nazwiska kandydata</th>\n",
       "      <th>Liczba głosów ważnych oddanych łącznie na wszystkich kandydatów</th>\n",
       "      <th>Andrzej Sebastian DUDA</th>\n",
       "      <th>Rafał Kazimierz TRZASKOWSKI</th>\n",
       "      <th>Liczba obwodów</th>\n",
       "    </tr>\n",
       "  </thead>\n",
       "  <tbody>\n",
       "    <tr>\n",
       "      <th>0</th>\n",
       "      <td>20000</td>\n",
       "      <td>dolnośląskie</td>\n",
       "      <td>2065241</td>\n",
       "      <td>2240376</td>\n",
       "      <td>578311</td>\n",
       "      <td>1487041</td>\n",
       "      <td>1334</td>\n",
       "      <td>41527</td>\n",
       "      <td>15246</td>\n",
       "      <td>14478</td>\n",
       "      <td>...</td>\n",
       "      <td>155</td>\n",
       "      <td>1500893</td>\n",
       "      <td>12953</td>\n",
       "      <td>7494</td>\n",
       "      <td>5459</td>\n",
       "      <td>NaN</td>\n",
       "      <td>1487940</td>\n",
       "      <td>663831</td>\n",
       "      <td>824109</td>\n",
       "      <td>1947</td>\n",
       "    </tr>\n",
       "    <tr>\n",
       "      <th>1</th>\n",
       "      <td>40000</td>\n",
       "      <td>kujawsko-pomorskie</td>\n",
       "      <td>1466205</td>\n",
       "      <td>1572933</td>\n",
       "      <td>446875</td>\n",
       "      <td>1019344</td>\n",
       "      <td>1001</td>\n",
       "      <td>21694</td>\n",
       "      <td>8605</td>\n",
       "      <td>8325</td>\n",
       "      <td>...</td>\n",
       "      <td>34</td>\n",
       "      <td>1027342</td>\n",
       "      <td>8142</td>\n",
       "      <td>4813</td>\n",
       "      <td>3329</td>\n",
       "      <td>NaN</td>\n",
       "      <td>1019200</td>\n",
       "      <td>476728</td>\n",
       "      <td>542472</td>\n",
       "      <td>1653</td>\n",
       "    </tr>\n",
       "  </tbody>\n",
       "</table>\n",
       "<p>2 rows × 27 columns</p>\n",
       "</div>"
      ],
      "text/plain": [
       "   Kod TERYT         Województwo  \\\n",
       "0      20000        dolnośląskie   \n",
       "1      40000  kujawsko-pomorskie   \n",
       "\n",
       "   Komisje obwodowe otrzymały kart do głosowania  \\\n",
       "0                                        2065241   \n",
       "1                                        1466205   \n",
       "\n",
       "   Liczba wyborców uprawnionych do głosowania  \\\n",
       "0                                     2240376   \n",
       "1                                     1572933   \n",
       "\n",
       "   Nie wykorzystano kart do głosowania  \\\n",
       "0                               578311   \n",
       "1                               446875   \n",
       "\n",
       "   Liczba wyborców, którym wydano karty do głosowania  \\\n",
       "0                                            1487041    \n",
       "1                                            1019344    \n",
       "\n",
       "   Liczba wyborców głosujących przez pełnomocnika  \\\n",
       "0                                            1334   \n",
       "1                                            1001   \n",
       "\n",
       "   Liczba wyborców głosujących na podstawie zaświadczenia o prawie do głosowania  \\\n",
       "0                                              41527                               \n",
       "1                                              21694                               \n",
       "\n",
       "   Liczba wyborców, którym wysłano pakiety wyborcze  \\\n",
       "0                                             15246   \n",
       "1                                              8605   \n",
       "\n",
       "   Liczba otrzymanych kopert zwrotnych  ...  Liczba kart nieważnych  \\\n",
       "0                                14478  ...                     155   \n",
       "1                                 8325  ...                      34   \n",
       "\n",
       "   Liczba kart ważnych  Liczba głosów nieważnych  \\\n",
       "0              1500893                     12953   \n",
       "1              1027342                      8142   \n",
       "\n",
       "   W tym z powodu postawienia znaku „X” obok nazwiska dwóch lub większej liczby kandydatów  \\\n",
       "0                                               7494                                         \n",
       "1                                               4813                                         \n",
       "\n",
       "   W tym z powodu niepostawienia znaku „X” obok nazwiska żadnego kandydata  \\\n",
       "0                                               5459                         \n",
       "1                                               3329                         \n",
       "\n",
       "   W tym z powodu postawienia znaku „X” wyłącznie obok skreślonego nazwiska kandydata  \\\n",
       "0                                                NaN                                    \n",
       "1                                                NaN                                    \n",
       "\n",
       "   Liczba głosów ważnych oddanych łącznie na wszystkich kandydatów  \\\n",
       "0                                            1487940                 \n",
       "1                                            1019200                 \n",
       "\n",
       "   Andrzej Sebastian DUDA  Rafał Kazimierz TRZASKOWSKI  Liczba obwodów  \n",
       "0                  663831                       824109            1947  \n",
       "1                  476728                       542472            1653  \n",
       "\n",
       "[2 rows x 27 columns]"
      ]
     },
     "execution_count": 3,
     "metadata": {},
     "output_type": "execute_result"
    }
   ],
   "source": [
    "election_woj = pd.read_csv(\"../data/elections/wyniki_gl_na_kand_po_wojewodztwach_utf8.csv\", sep=\";\")\n",
    "election_woj.head(2)"
   ]
  },
  {
   "cell_type": "code",
   "execution_count": 4,
   "id": "impaired-change",
   "metadata": {},
   "outputs": [
    {
     "data": {
      "text/html": [
       "<div>\n",
       "<style scoped>\n",
       "    .dataframe tbody tr th:only-of-type {\n",
       "        vertical-align: middle;\n",
       "    }\n",
       "\n",
       "    .dataframe tbody tr th {\n",
       "        vertical-align: top;\n",
       "    }\n",
       "\n",
       "    .dataframe thead th {\n",
       "        text-align: right;\n",
       "    }\n",
       "</style>\n",
       "<table border=\"1\" class=\"dataframe\">\n",
       "  <thead>\n",
       "    <tr style=\"text-align: right;\">\n",
       "      <th></th>\n",
       "      <th>wojewodztwo</th>\n",
       "      <th>powiat_miasto</th>\n",
       "      <th>liczba_szczepien_ogolnie</th>\n",
       "      <th>liczba_szczepien_dziennie</th>\n",
       "      <th>dawka_2_ogolem</th>\n",
       "      <th>dawka_2_dziennie</th>\n",
       "      <th>teryt</th>\n",
       "    </tr>\n",
       "  </thead>\n",
       "  <tbody>\n",
       "    <tr>\n",
       "      <th>1</th>\n",
       "      <td>dolnośląskie</td>\n",
       "      <td>bolesławiecki</td>\n",
       "      <td>63379</td>\n",
       "      <td>301</td>\n",
       "      <td>27788</td>\n",
       "      <td>216</td>\n",
       "      <td>t0201</td>\n",
       "    </tr>\n",
       "    <tr>\n",
       "      <th>2</th>\n",
       "      <td>dolnośląskie</td>\n",
       "      <td>dzierżoniowski</td>\n",
       "      <td>58446</td>\n",
       "      <td>147</td>\n",
       "      <td>25679</td>\n",
       "      <td>102</td>\n",
       "      <td>t0202</td>\n",
       "    </tr>\n",
       "  </tbody>\n",
       "</table>\n",
       "</div>"
      ],
      "text/plain": [
       "    wojewodztwo   powiat_miasto  liczba_szczepien_ogolnie  \\\n",
       "1  dolnośląskie   bolesławiecki                     63379   \n",
       "2  dolnośląskie  dzierżoniowski                     58446   \n",
       "\n",
       "   liczba_szczepien_dziennie  dawka_2_ogolem  dawka_2_dziennie  teryt  \n",
       "1                        301           27788               216  t0201  \n",
       "2                        147           25679               102  t0202  "
      ]
     },
     "execution_count": 4,
     "metadata": {},
     "output_type": "execute_result"
    }
   ],
   "source": [
    "vaccination_pow = pd.read_csv(\"../data/vaccinations/aktualne_dane_szczepienia_pow_13_07.csv\", sep=';', encoding='cp1250')\n",
    "vaccination_pow.drop(index=0, inplace=True)\n",
    "vaccination_pow.head(2)"
   ]
  },
  {
   "cell_type": "code",
   "execution_count": 5,
   "id": "protected-works",
   "metadata": {},
   "outputs": [
    {
     "data": {
      "text/html": [
       "<div>\n",
       "<style scoped>\n",
       "    .dataframe tbody tr th:only-of-type {\n",
       "        vertical-align: middle;\n",
       "    }\n",
       "\n",
       "    .dataframe tbody tr th {\n",
       "        vertical-align: top;\n",
       "    }\n",
       "\n",
       "    .dataframe thead th {\n",
       "        text-align: right;\n",
       "    }\n",
       "</style>\n",
       "<table border=\"1\" class=\"dataframe\">\n",
       "  <thead>\n",
       "    <tr style=\"text-align: right;\">\n",
       "      <th></th>\n",
       "      <th>wojewodztwo</th>\n",
       "      <th>liczba_szczepien_ogolnie</th>\n",
       "      <th>liczba_szczepien_dziennie</th>\n",
       "      <th>dawka_2_ogolem</th>\n",
       "      <th>dawka_2_dziennie</th>\n",
       "      <th>teryt</th>\n",
       "    </tr>\n",
       "  </thead>\n",
       "  <tbody>\n",
       "    <tr>\n",
       "      <th>1</th>\n",
       "      <td>dolnośląskie</td>\n",
       "      <td>2552227</td>\n",
       "      <td>19091</td>\n",
       "      <td>1136941</td>\n",
       "      <td>14696</td>\n",
       "      <td>t02</td>\n",
       "    </tr>\n",
       "    <tr>\n",
       "      <th>2</th>\n",
       "      <td>kujawsko-pomorskie</td>\n",
       "      <td>1666443</td>\n",
       "      <td>15742</td>\n",
       "      <td>725698</td>\n",
       "      <td>12660</td>\n",
       "      <td>t04</td>\n",
       "    </tr>\n",
       "  </tbody>\n",
       "</table>\n",
       "</div>"
      ],
      "text/plain": [
       "          wojewodztwo  liczba_szczepien_ogolnie  liczba_szczepien_dziennie  \\\n",
       "1        dolnośląskie                   2552227                      19091   \n",
       "2  kujawsko-pomorskie                   1666443                      15742   \n",
       "\n",
       "   dawka_2_ogolem  dawka_2_dziennie teryt  \n",
       "1         1136941             14696   t02  \n",
       "2          725698             12660   t04  "
      ]
     },
     "execution_count": 5,
     "metadata": {},
     "output_type": "execute_result"
    }
   ],
   "source": [
    "vaccination_woj = pd.read_csv(\"../data/vaccinations/aktualne_dane_szczepienia_woj.csv\", sep=\";\", encoding='cp1250')\n",
    "vaccination_woj.drop(index=0, inplace=True)\n",
    "vaccination_woj.head(2)"
   ]
  },
  {
   "cell_type": "code",
   "execution_count": 6,
   "id": "usual-bachelor",
   "metadata": {},
   "outputs": [
    {
     "data": {
      "text/html": [
       "<div>\n",
       "<style scoped>\n",
       "    .dataframe tbody tr th:only-of-type {\n",
       "        vertical-align: middle;\n",
       "    }\n",
       "\n",
       "    .dataframe tbody tr th {\n",
       "        vertical-align: top;\n",
       "    }\n",
       "\n",
       "    .dataframe thead th {\n",
       "        text-align: right;\n",
       "    }\n",
       "</style>\n",
       "<table border=\"1\" class=\"dataframe\">\n",
       "  <thead>\n",
       "    <tr style=\"text-align: right;\">\n",
       "      <th></th>\n",
       "      <th>wojewodztwo</th>\n",
       "      <th>liczba_szczepien_ogolnie</th>\n",
       "      <th>liczba_szczepien_dziennie</th>\n",
       "      <th>dawka_2_ogolem</th>\n",
       "      <th>dawka_2_dziennie</th>\n",
       "      <th>teryt</th>\n",
       "      <th>Kod TERYT</th>\n",
       "      <th>Województwo</th>\n",
       "      <th>Komisje obwodowe otrzymały kart do głosowania</th>\n",
       "      <th>Liczba wyborców uprawnionych do głosowania</th>\n",
       "      <th>...</th>\n",
       "      <th>Liczba kart ważnych</th>\n",
       "      <th>Liczba głosów nieważnych</th>\n",
       "      <th>W tym z powodu postawienia znaku „X” obok nazwiska dwóch lub większej liczby kandydatów</th>\n",
       "      <th>W tym z powodu niepostawienia znaku „X” obok nazwiska żadnego kandydata</th>\n",
       "      <th>W tym z powodu postawienia znaku „X” wyłącznie obok skreślonego nazwiska kandydata</th>\n",
       "      <th>Liczba głosów ważnych oddanych łącznie na wszystkich kandydatów</th>\n",
       "      <th>Andrzej Sebastian DUDA</th>\n",
       "      <th>Rafał Kazimierz TRZASKOWSKI</th>\n",
       "      <th>Liczba obwodów</th>\n",
       "      <th>pis_fraction</th>\n",
       "    </tr>\n",
       "  </thead>\n",
       "  <tbody>\n",
       "    <tr>\n",
       "      <th>0</th>\n",
       "      <td>dolnośląskie</td>\n",
       "      <td>2552227</td>\n",
       "      <td>19091</td>\n",
       "      <td>1136941</td>\n",
       "      <td>14696</td>\n",
       "      <td>t02</td>\n",
       "      <td>20000</td>\n",
       "      <td>dolnośląskie</td>\n",
       "      <td>2065241</td>\n",
       "      <td>2240376</td>\n",
       "      <td>...</td>\n",
       "      <td>1500893</td>\n",
       "      <td>12953</td>\n",
       "      <td>7494</td>\n",
       "      <td>5459</td>\n",
       "      <td>NaN</td>\n",
       "      <td>1487940</td>\n",
       "      <td>663831</td>\n",
       "      <td>824109</td>\n",
       "      <td>1947</td>\n",
       "      <td>0.446141</td>\n",
       "    </tr>\n",
       "    <tr>\n",
       "      <th>1</th>\n",
       "      <td>kujawsko-pomorskie</td>\n",
       "      <td>1666443</td>\n",
       "      <td>15742</td>\n",
       "      <td>725698</td>\n",
       "      <td>12660</td>\n",
       "      <td>t04</td>\n",
       "      <td>40000</td>\n",
       "      <td>kujawsko-pomorskie</td>\n",
       "      <td>1466205</td>\n",
       "      <td>1572933</td>\n",
       "      <td>...</td>\n",
       "      <td>1027342</td>\n",
       "      <td>8142</td>\n",
       "      <td>4813</td>\n",
       "      <td>3329</td>\n",
       "      <td>NaN</td>\n",
       "      <td>1019200</td>\n",
       "      <td>476728</td>\n",
       "      <td>542472</td>\n",
       "      <td>1653</td>\n",
       "      <td>0.467747</td>\n",
       "    </tr>\n",
       "  </tbody>\n",
       "</table>\n",
       "<p>2 rows × 34 columns</p>\n",
       "</div>"
      ],
      "text/plain": [
       "          wojewodztwo  liczba_szczepien_ogolnie  liczba_szczepien_dziennie  \\\n",
       "0        dolnośląskie                   2552227                      19091   \n",
       "1  kujawsko-pomorskie                   1666443                      15742   \n",
       "\n",
       "   dawka_2_ogolem  dawka_2_dziennie teryt  Kod TERYT         Województwo  \\\n",
       "0         1136941             14696   t02      20000        dolnośląskie   \n",
       "1          725698             12660   t04      40000  kujawsko-pomorskie   \n",
       "\n",
       "   Komisje obwodowe otrzymały kart do głosowania  \\\n",
       "0                                        2065241   \n",
       "1                                        1466205   \n",
       "\n",
       "   Liczba wyborców uprawnionych do głosowania  ...  Liczba kart ważnych  \\\n",
       "0                                     2240376  ...              1500893   \n",
       "1                                     1572933  ...              1027342   \n",
       "\n",
       "   Liczba głosów nieważnych  \\\n",
       "0                     12953   \n",
       "1                      8142   \n",
       "\n",
       "   W tym z powodu postawienia znaku „X” obok nazwiska dwóch lub większej liczby kandydatów  \\\n",
       "0                                               7494                                         \n",
       "1                                               4813                                         \n",
       "\n",
       "   W tym z powodu niepostawienia znaku „X” obok nazwiska żadnego kandydata  \\\n",
       "0                                               5459                         \n",
       "1                                               3329                         \n",
       "\n",
       "   W tym z powodu postawienia znaku „X” wyłącznie obok skreślonego nazwiska kandydata  \\\n",
       "0                                                NaN                                    \n",
       "1                                                NaN                                    \n",
       "\n",
       "   Liczba głosów ważnych oddanych łącznie na wszystkich kandydatów  \\\n",
       "0                                            1487940                 \n",
       "1                                            1019200                 \n",
       "\n",
       "   Andrzej Sebastian DUDA  Rafał Kazimierz TRZASKOWSKI  Liczba obwodów  \\\n",
       "0                  663831                       824109            1947   \n",
       "1                  476728                       542472            1653   \n",
       "\n",
       "   pis_fraction  \n",
       "0      0.446141  \n",
       "1      0.467747  \n",
       "\n",
       "[2 rows x 34 columns]"
      ]
     },
     "execution_count": 6,
     "metadata": {},
     "output_type": "execute_result"
    }
   ],
   "source": [
    "df_woj = pd.merge(vaccination_woj, election_woj, left_on='wojewodztwo', right_on='Województwo')\n",
    "df_woj[\"pis_fraction\"] =  df_woj[\"Andrzej Sebastian DUDA\"] / (df_woj[\"Andrzej Sebastian DUDA\"] + df_woj[\"Rafał Kazimierz TRZASKOWSKI\"])\n",
    "df_woj.head(2)"
   ]
  },
  {
   "cell_type": "code",
   "execution_count": 7,
   "id": "awful-catch",
   "metadata": {},
   "outputs": [
    {
     "data": {
      "text/plain": [
       "Text(0.5, 0, 'Total number of vaccinated')"
      ]
     },
     "execution_count": 7,
     "metadata": {},
     "output_type": "execute_result"
    },
    {
     "data": {
      "image/png": "[encoded data removed]",
      "text/plain": [
       "<Figure size 460.8x345.6 with 1 Axes>"
      ]
     },
     "metadata": {
      "needs_background": "light"
     },
     "output_type": "display_data"
    }
   ],
   "source": [
    "plt.scatter(df_woj.liczba_szczepien_ogolnie, df_woj[\"pis_fraction\"])\n",
    "plt.ylabel(\"\\% PiS\")\n",
    "plt.xlabel(\"Total number of vaccinated\")"
   ]
  },
  {
   "cell_type": "code",
   "execution_count": 8,
   "id": "played-species",
   "metadata": {},
   "outputs": [
    {
     "data": {
      "text/plain": [
       "SpearmanrResult(correlation=-0.07352941176470588, pvalue=0.7866792491258565)"
      ]
     },
     "execution_count": 8,
     "metadata": {},
     "output_type": "execute_result"
    }
   ],
   "source": [
    "from scipy.stats import spearmanr\n",
    "\n",
    "spearmanr(df_woj.liczba_szczepien_ogolnie, df_woj.pis_fraction) # too small sample"
   ]
  },
  {
   "cell_type": "code",
   "execution_count": null,
   "id": "pleased-lincoln",
   "metadata": {},
   "outputs": [],
   "source": []
  },
  {
   "cell_type": "code",
   "execution_count": 9,
   "id": "several-intranet",
   "metadata": {},
   "outputs": [
    {
     "data": {
      "text/html": [
       "<div>\n",
       "<style scoped>\n",
       "    .dataframe tbody tr th:only-of-type {\n",
       "        vertical-align: middle;\n",
       "    }\n",
       "\n",
       "    .dataframe tbody tr th {\n",
       "        vertical-align: top;\n",
       "    }\n",
       "\n",
       "    .dataframe thead th {\n",
       "        text-align: right;\n",
       "    }\n",
       "</style>\n",
       "<table border=\"1\" class=\"dataframe\">\n",
       "  <thead>\n",
       "    <tr style=\"text-align: right;\">\n",
       "      <th></th>\n",
       "      <th>wojewodztwo</th>\n",
       "      <th>powiat_miasto</th>\n",
       "      <th>liczba_szczepien_ogolnie</th>\n",
       "      <th>liczba_szczepien_dziennie</th>\n",
       "      <th>dawka_2_ogolem</th>\n",
       "      <th>dawka_2_dziennie</th>\n",
       "      <th>teryt</th>\n",
       "      <th>Nr OKW</th>\n",
       "      <th>Kod TERYT</th>\n",
       "      <th>Powiat</th>\n",
       "      <th>...</th>\n",
       "      <th>W tym z powodu niepostawienia znaku „X” obok nazwiska żadnego kandydata</th>\n",
       "      <th>W tym z powodu postawienia znaku „X” wyłącznie obok skreślonego nazwiska kandydata</th>\n",
       "      <th>Liczba głosów ważnych oddanych łącznie na wszystkich kandydatów</th>\n",
       "      <th>Andrzej Sebastian DUDA</th>\n",
       "      <th>Rafał Kazimierz TRZASKOWSKI</th>\n",
       "      <th>Liczba obwodów</th>\n",
       "      <th>powiat</th>\n",
       "      <th>liczba</th>\n",
       "      <th>pis_fraction</th>\n",
       "      <th>vaccinated_fraction</th>\n",
       "    </tr>\n",
       "  </thead>\n",
       "  <tbody>\n",
       "    <tr>\n",
       "      <th>0</th>\n",
       "      <td>dolnośląskie</td>\n",
       "      <td>bolesławiecki</td>\n",
       "      <td>63379</td>\n",
       "      <td>301</td>\n",
       "      <td>27788</td>\n",
       "      <td>216</td>\n",
       "      <td>t0201</td>\n",
       "      <td>2</td>\n",
       "      <td>20100</td>\n",
       "      <td>bolesławiecki</td>\n",
       "      <td>...</td>\n",
       "      <td>143</td>\n",
       "      <td>NaN</td>\n",
       "      <td>42247</td>\n",
       "      <td>20966</td>\n",
       "      <td>21281</td>\n",
       "      <td>63</td>\n",
       "      <td>bolesławiecki</td>\n",
       "      <td>89762</td>\n",
       "      <td>0.496272</td>\n",
       "      <td>0.003353</td>\n",
       "    </tr>\n",
       "    <tr>\n",
       "      <th>1</th>\n",
       "      <td>dolnośląskie</td>\n",
       "      <td>dzierżoniowski</td>\n",
       "      <td>58446</td>\n",
       "      <td>147</td>\n",
       "      <td>25679</td>\n",
       "      <td>102</td>\n",
       "      <td>t0202</td>\n",
       "      <td>4</td>\n",
       "      <td>20200</td>\n",
       "      <td>dzierżoniowski</td>\n",
       "      <td>...</td>\n",
       "      <td>178</td>\n",
       "      <td>NaN</td>\n",
       "      <td>48342</td>\n",
       "      <td>24383</td>\n",
       "      <td>23959</td>\n",
       "      <td>83</td>\n",
       "      <td>dzierżoniowski</td>\n",
       "      <td>99935</td>\n",
       "      <td>0.504385</td>\n",
       "      <td>0.001471</td>\n",
       "    </tr>\n",
       "  </tbody>\n",
       "</table>\n",
       "<p>2 rows × 40 columns</p>\n",
       "</div>"
      ],
      "text/plain": [
       "    wojewodztwo   powiat_miasto  liczba_szczepien_ogolnie  \\\n",
       "0  dolnośląskie   bolesławiecki                     63379   \n",
       "1  dolnośląskie  dzierżoniowski                     58446   \n",
       "\n",
       "   liczba_szczepien_dziennie  dawka_2_ogolem  dawka_2_dziennie  teryt  Nr OKW  \\\n",
       "0                        301           27788               216  t0201       2   \n",
       "1                        147           25679               102  t0202       4   \n",
       "\n",
       "   Kod TERYT          Powiat  ...  \\\n",
       "0      20100   bolesławiecki  ...   \n",
       "1      20200  dzierżoniowski  ...   \n",
       "\n",
       "  W tym z powodu niepostawienia znaku „X” obok nazwiska żadnego kandydata  \\\n",
       "0                                                143                        \n",
       "1                                                178                        \n",
       "\n",
       "   W tym z powodu postawienia znaku „X” wyłącznie obok skreślonego nazwiska kandydata  \\\n",
       "0                                                NaN                                    \n",
       "1                                                NaN                                    \n",
       "\n",
       "   Liczba głosów ważnych oddanych łącznie na wszystkich kandydatów  \\\n",
       "0                                              42247                 \n",
       "1                                              48342                 \n",
       "\n",
       "   Andrzej Sebastian DUDA  Rafał Kazimierz TRZASKOWSKI  Liczba obwodów  \\\n",
       "0                   20966                        21281              63   \n",
       "1                   24383                        23959              83   \n",
       "\n",
       "           powiat  liczba  pis_fraction  vaccinated_fraction  \n",
       "0   bolesławiecki   89762      0.496272             0.003353  \n",
       "1  dzierżoniowski   99935      0.504385             0.001471  \n",
       "\n",
       "[2 rows x 40 columns]"
      ]
     },
     "execution_count": 9,
     "metadata": {},
     "output_type": "execute_result"
    }
   ],
   "source": [
    "population_powiat = pd.read_excel(\"../data/people_powiat.xls\")\n",
    "population_powiat['powiat'] = population_powiat['powiat'].str.strip()\n",
    "\n",
    "df_pow = pd.merge(vaccination_pow, election_pow, left_on='powiat_miasto', right_on='Powiat')\n",
    "df_pow = pd.merge(df_pow, population_powiat, left_on='powiat_miasto', right_on='powiat')\n",
    "df_pow = df_pow.drop_duplicates('powiat_miasto')\n",
    "\n",
    "\n",
    "df_pow[\"pis_fraction\"] =  df_pow[\"Andrzej Sebastian DUDA\"] / (df_pow[\"Andrzej Sebastian DUDA\"] + df_pow[\"Rafał Kazimierz TRZASKOWSKI\"])\n",
    "df_pow['vaccinated_fraction'] = df_pow['liczba_szczepien_dziennie'] / df_pow['liczba']\n",
    "df_pow.head(2)"
   ]
  },
  {
   "cell_type": "code",
   "execution_count": 10,
   "id": "considered-jackson",
   "metadata": {},
   "outputs": [
    {
     "data": {
      "image/png": "[encoded data removed]",
      "text/plain": [
       "<Figure size 460.8x345.6 with 1 Axes>"
      ]
     },
     "metadata": {
      "needs_background": "light"
     },
     "output_type": "display_data"
    }
   ],
   "source": [
    "plt.scatter(df_pow.liczba_szczepien_ogolnie, df_pow[\"pis_fraction\"], marker='o', s=30)\n",
    "\n",
    "corr = spearmanr(df_pow.liczba_szczepien_ogolnie, df_pow.pis_fraction).correlation\n",
    "\n",
    "plt.text(5e5, 0.8, r'$r_s = {:.2f}$'.format(corr), fontsize=20)\n",
    "plt.ylabel(\"\\% PiS\")\n",
    "plt.xlabel(\"Total number of vaccinated\")\n",
    "plt.xscale('log')\n",
    "# plt.savefig(\"../plots/pis_vs_vaccinated_powiat.pdf\")"
   ]
  },
  {
   "cell_type": "code",
   "execution_count": 11,
   "id": "fatal-abraham",
   "metadata": {},
   "outputs": [
    {
     "data": {
      "text/plain": [
       "Text(0.5, 1.0, 'Data for 13.07.2021')"
      ]
     },
     "execution_count": 11,
     "metadata": {},
     "output_type": "execute_result"
    },
    {
     "data": {
      "image/png": "[encoded data removed]",
      "text/plain": [
       "<Figure size 460.8x345.6 with 1 Axes>"
      ]
     },
     "metadata": {
      "needs_background": "light"
     },
     "output_type": "display_data"
    }
   ],
   "source": [
    "plt.scatter(df_pow['vaccinated_fraction'], df_pow[\"pis_fraction\"], marker='o', s=30)\n",
    "\n",
    "corr = spearmanr(df_pow['vaccinated_fraction'], df_pow.pis_fraction).correlation\n",
    "\n",
    "plt.text(0.008, 0.8, r'$r_s = {:.2f}$'.format(corr), fontsize=20)\n",
    "plt.ylabel(\"\\% PiS\")\n",
    "plt.xlabel('Daily vaccinated / Total population in powiat')\n",
    "plt.title('Data for 13.07.2021')\n",
    "# plt.savefig(\"../plots/pis_vs_vaccinated_powiat_rescaled.pdf\")"
   ]
  },
  {
   "cell_type": "code",
   "execution_count": 12,
   "id": "constant-portugal",
   "metadata": {},
   "outputs": [
    {
     "data": {
      "text/html": [
       "<div>\n",
       "<style scoped>\n",
       "    .dataframe tbody tr th:only-of-type {\n",
       "        vertical-align: middle;\n",
       "    }\n",
       "\n",
       "    .dataframe tbody tr th {\n",
       "        vertical-align: top;\n",
       "    }\n",
       "\n",
       "    .dataframe thead th {\n",
       "        text-align: right;\n",
       "    }\n",
       "</style>\n",
       "<table border=\"1\" class=\"dataframe\">\n",
       "  <thead>\n",
       "    <tr style=\"text-align: right;\">\n",
       "      <th></th>\n",
       "      <th>wojewodztwo</th>\n",
       "      <th>powiat_miasto</th>\n",
       "      <th>liczba_szczepien_ogolnie</th>\n",
       "      <th>liczba_szczepien_dziennie</th>\n",
       "      <th>dawka_2_ogolem</th>\n",
       "      <th>dawka_2_dziennie</th>\n",
       "      <th>teryt</th>\n",
       "      <th>Nr OKW</th>\n",
       "      <th>Kod TERYT</th>\n",
       "      <th>Powiat</th>\n",
       "      <th>...</th>\n",
       "      <th>W tym z powodu niepostawienia znaku „X” obok nazwiska żadnego kandydata</th>\n",
       "      <th>W tym z powodu postawienia znaku „X” wyłącznie obok skreślonego nazwiska kandydata</th>\n",
       "      <th>Liczba głosów ważnych oddanych łącznie na wszystkich kandydatów</th>\n",
       "      <th>Andrzej Sebastian DUDA</th>\n",
       "      <th>Rafał Kazimierz TRZASKOWSKI</th>\n",
       "      <th>Liczba obwodów</th>\n",
       "      <th>powiat</th>\n",
       "      <th>liczba</th>\n",
       "      <th>pis_fraction</th>\n",
       "      <th>vaccinated_fraction</th>\n",
       "    </tr>\n",
       "  </thead>\n",
       "  <tbody>\n",
       "    <tr>\n",
       "      <th>316</th>\n",
       "      <td>pomorskie</td>\n",
       "      <td>Sopot</td>\n",
       "      <td>87940</td>\n",
       "      <td>434</td>\n",
       "      <td>42379</td>\n",
       "      <td>366</td>\n",
       "      <td>t2264</td>\n",
       "      <td>35</td>\n",
       "      <td>226400</td>\n",
       "      <td>Sopot</td>\n",
       "      <td>...</td>\n",
       "      <td>97</td>\n",
       "      <td>NaN</td>\n",
       "      <td>24360</td>\n",
       "      <td>6781</td>\n",
       "      <td>17579</td>\n",
       "      <td>24</td>\n",
       "      <td>Sopot</td>\n",
       "      <td>35286</td>\n",
       "      <td>0.278366</td>\n",
       "      <td>0.012299</td>\n",
       "    </tr>\n",
       "  </tbody>\n",
       "</table>\n",
       "<p>1 rows × 40 columns</p>\n",
       "</div>"
      ],
      "text/plain": [
       "    wojewodztwo powiat_miasto  liczba_szczepien_ogolnie  \\\n",
       "316   pomorskie         Sopot                     87940   \n",
       "\n",
       "     liczba_szczepien_dziennie  dawka_2_ogolem  dawka_2_dziennie  teryt  \\\n",
       "316                        434           42379               366  t2264   \n",
       "\n",
       "     Nr OKW  Kod TERYT Powiat  ...  \\\n",
       "316      35     226400  Sopot  ...   \n",
       "\n",
       "    W tym z powodu niepostawienia znaku „X” obok nazwiska żadnego kandydata  \\\n",
       "316                                                 97                        \n",
       "\n",
       "     W tym z powodu postawienia znaku „X” wyłącznie obok skreślonego nazwiska kandydata  \\\n",
       "316                                                NaN                                    \n",
       "\n",
       "     Liczba głosów ważnych oddanych łącznie na wszystkich kandydatów  \\\n",
       "316                                              24360                 \n",
       "\n",
       "     Andrzej Sebastian DUDA  Rafał Kazimierz TRZASKOWSKI  Liczba obwodów  \\\n",
       "316                    6781                        17579              24   \n",
       "\n",
       "     powiat  liczba  pis_fraction  vaccinated_fraction  \n",
       "316   Sopot   35286      0.278366             0.012299  \n",
       "\n",
       "[1 rows x 40 columns]"
      ]
     },
     "execution_count": 12,
     "metadata": {},
     "output_type": "execute_result"
    }
   ],
   "source": [
    "df_pow[df_pow['vaccinated_fraction'] == df_pow['vaccinated_fraction'].max()]"
   ]
  },
  {
   "cell_type": "code",
   "execution_count": 13,
   "id": "5dfc0a78",
   "metadata": {},
   "outputs": [
    {
     "data": {
      "text/plain": [
       "105767"
      ]
     },
     "execution_count": 13,
     "metadata": {},
     "output_type": "execute_result"
    }
   ],
   "source": [
    "df_pow['liczba_szczepien_dziennie'].sum()"
   ]
  },
  {
   "cell_type": "code",
   "execution_count": null,
   "id": "9dfd6eea-bec4-4962-ad3f-d0cb119f9148",
   "metadata": {},
   "outputs": [],
   "source": []
  },
  {
   "cell_type": "markdown",
   "id": "75f3e96f",
   "metadata": {},
   "source": [
    "### Data per day"
   ]
  },
  {
   "cell_type": "code",
   "execution_count": 14,
   "id": "a7956f63",
   "metadata": {},
   "outputs": [],
   "source": [
    "import json\n",
    "from io import StringIO\n",
    "from datetime import datetime\n",
    "import ast\n",
    "\n",
    "\"\"\"\n",
    "Data from https://www.gov.pl/web/szczepimysie/raport-szczepien-przeciwko-covid-19\n",
    "\n",
    "I scraped left bottom histogram by: `AmCharts.charts[0].chartData` and extracting data\n",
    "\"\"\"\n",
    "\n",
    "with open('../data/vaccinations/data_per_day.json', 'r') as f:\n",
    "    days = json.load(StringIO(f.readline()))\n",
    "    days = ast.literal_eval(days)\n",
    "    days = pd.to_datetime(days)\n",
    "    \n",
    "    values = json.load(StringIO(f.readline()))\n",
    "    values = ast.literal_eval(values)"
   ]
  },
  {
   "cell_type": "code",
   "execution_count": 15,
   "id": "ccea4b1a",
   "metadata": {},
   "outputs": [
    {
     "data": {
      "text/plain": [
       "Text(0, 0.5, 'Daily vaccinated')"
      ]
     },
     "execution_count": 15,
     "metadata": {},
     "output_type": "execute_result"
    },
    {
     "data": {
      "image/png": "[encoded data removed]",
      "text/plain": [
       "<Figure size 1080x288 with 1 Axes>"
      ]
     },
     "metadata": {
      "needs_background": "light"
     },
     "output_type": "display_data"
    }
   ],
   "source": [
    "plt.figure(figsize=(15, 4))\n",
    "plt.bar(days, values)\n",
    "plt.ylabel('Daily vaccinated')"
   ]
  },
  {
   "cell_type": "code",
   "execution_count": 16,
   "id": "b94cdadf",
   "metadata": {},
   "outputs": [],
   "source": [
    "# TODO average over one month, and calculate correlation in each month (with what??)"
   ]
  },
  {
   "cell_type": "markdown",
   "id": "a2c97746",
   "metadata": {},
   "source": [
    "# How does the correlation change over time"
   ]
  },
  {
   "cell_type": "code",
   "execution_count": 20,
   "id": "018caa5d",
   "metadata": {},
   "outputs": [],
   "source": [
    "def load_vaccine_data(path):    \n",
    "    election_pow = pd.read_csv(\"../data/elections/wyniki_gl_na_kand_po_powiatach_utf8.csv\", sep=\";\")\n",
    "\n",
    "    vaccination_pow = pd.read_csv(path, sep=';')\n",
    "    vaccination_pow.drop(index=0, inplace=True)\n",
    "\n",
    "    population_powiat = pd.read_excel(\"../data/people_powiat.xls\")\n",
    "    population_powiat['powiat'] = population_powiat['powiat'].str.strip()\n",
    "\n",
    "    df_pow = pd.merge(vaccination_pow, election_pow, left_on='powiat_miasto', right_on='Powiat')\n",
    "    df_pow = pd.merge(df_pow, population_powiat, left_on='powiat_miasto', right_on='powiat')\n",
    "    df_pow = df_pow.drop_duplicates('powiat_miasto')\n",
    "\n",
    "\n",
    "    df_pow[\"pis_fraction\"] =  df_pow[\"Andrzej Sebastian DUDA\"] / (df_pow[\"Andrzej Sebastian DUDA\"] + df_pow[\"Rafał Kazimierz TRZASKOWSKI\"])\n",
    "    df_pow['vaccinated_fraction'] = df_pow['liczba_szczepien_dziennie'] / df_pow['liczba']\n",
    "    return df_pow"
   ]
  },
  {
   "cell_type": "code",
   "execution_count": 70,
   "id": "80312b9e",
   "metadata": {},
   "outputs": [],
   "source": [
    "import glob\n",
    "import time\n",
    "import os\n",
    "\n",
    "dfs = []\n",
    "\n",
    "files = glob.glob(\"../data/gov_vaccination_downloader/*.csv\")\n",
    "\n",
    "def sorting(L):\n",
    "    x = L.split('/')[-1]\n",
    "    x = x.split('.')[0]\n",
    "    x = x.split('-')\n",
    "    y = '-'.join([x[-3], x[-2], x[-1]])\n",
    "    return datetime.strptime(y, '%Y-%m-%d')\n",
    "\n",
    "files = sorted(files, key=sorting)\n",
    "\n",
    "for file in files:\n",
    "    df = load_vaccine_data(file)\n",
    "    dfs.append(df)"
   ]
  },
  {
   "cell_type": "code",
   "execution_count": 71,
   "id": "1a72f23a",
   "metadata": {},
   "outputs": [],
   "source": [
    "def plot_vaccine_data(df_pow):\n",
    "    plt.scatter(df_pow.liczba_szczepien_ogolnie, df_pow[\"pis_fraction\"], marker='o', s=30)\n",
    "\n",
    "    corr = spearmanr(df_pow.liczba_szczepien_ogolnie, df_pow.pis_fraction).correlation\n",
    "\n",
    "    plt.text(5e5, 0.8, r'$r_s = {:.2f}$'.format(corr), fontsize=20)\n",
    "    plt.ylabel(\"\\% PiS\")\n",
    "    plt.xlabel(\"Total number of vaccinated\")\n",
    "    plt.xscale('log')\n",
    "    \n",
    "def get_spearman(df_pow):\n",
    "    corr = spearmanr(df_pow.liczba_szczepien_ogolnie, df_pow.pis_fraction).correlation\n",
    "    return corr"
   ]
  },
  {
   "cell_type": "code",
   "execution_count": 99,
   "id": "09b7d1a9",
   "metadata": {},
   "outputs": [
    {
     "data": {
      "text/plain": [
       "Text(0, 0.5, '\\\\noindent Correlations between total$\\\\\\\\$ number of vaccinations $\\\\\\\\$ and the PiS fraction')"
      ]
     },
     "execution_count": 99,
     "metadata": {},
     "output_type": "execute_result"
    },
    {
     "data": {
      "image/png": "[encoded data removed]",
      "text/plain": [
       "<Figure size 460.8x345.6 with 1 Axes>"
      ]
     },
     "metadata": {
      "needs_background": "light"
     },
     "output_type": "display_data"
    }
   ],
   "source": [
    "plt.plot([get_spearman(x) for x in dfs])\n",
    "plt.xlabel('Day (between 31.07 and 07.09)')\n",
    "plt.ylabel(r'\\noindent Correlations between total$\\\\$ number of vaccinations $\\\\$ and the PiS fraction')"
   ]
  },
  {
   "cell_type": "code",
   "execution_count": 91,
   "id": "6591f83b",
   "metadata": {},
   "outputs": [
    {
     "data": {
      "image/png": "[encoded data removed]",
      "text/plain": [
       "<Figure size 460.8x345.6 with 1 Axes>"
      ]
     },
     "metadata": {
      "needs_background": "light"
     },
     "output_type": "display_data"
    }
   ],
   "source": [
    "diff = dfs[-1].liczba_szczepien_ogolnie - dfs[0].liczba_szczepien_ogolnie\n",
    "\n",
    "x, y = diff, dfs[0].pis_fraction\n",
    "plt.scatter(x, y, alpha=0.6, s=50)\n",
    "corr = spearmanr(x, y).correlation\n",
    "\n",
    "plt.text(3e4, 0.8, r'$r_s = {:.2f}$'.format(corr), fontsize=20)\n",
    "\n",
    "plt.ylabel(\"\\% PiS\")\n",
    "plt.xlabel(\"Difference in vaccinations (between 31.07 and 07.09)\")\n",
    "plt.xscale('log')"
   ]
  }
 ],
 "metadata": {
  "kernelspec": {
   "display_name": "Python 3",
   "language": "python",
   "name": "python3"
  },
  "language_info": {
   "codemirror_mode": {
    "name": "ipython",
    "version": 3
   },
   "file_extension": ".py",
   "mimetype": "text/x-python",
   "name": "python",
   "nbconvert_exporter": "python",
   "pygments_lexer": "ipython3",
   "version": "3.6.9"
  }
 },
 "nbformat": 4,
 "nbformat_minor": 5
}
